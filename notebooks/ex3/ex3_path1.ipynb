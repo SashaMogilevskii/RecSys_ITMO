{
 "metadata": {
  "kernelspec": {
   "language": "python",
   "display_name": "Python 3",
   "name": "python3"
  },
  "language_info": {
   "name": "python",
   "version": "3.7.12",
   "mimetype": "text/x-python",
   "codemirror_mode": {
    "name": "ipython",
    "version": 3
   },
   "pygments_lexer": "ipython3",
   "nbconvert_exporter": "python",
   "file_extension": ".py"
  }
 },
 "nbformat_minor": 4,
 "nbformat": 4,
 "cells": [
  {
   "cell_type": "code",
   "source": "! pip install gdown",
   "metadata": {
    "_uuid": "8f2839f25d086af736a60e9eeb907d3b93b6e0e5",
    "_cell_guid": "b1076dfc-b9ad-4769-8c92-a6c4dae69d19",
    "execution": {
     "iopub.status.busy": "2022-10-31T22:01:38.225914Z",
     "iopub.execute_input": "2022-10-31T22:01:38.226481Z",
     "iopub.status.idle": "2022-10-31T22:01:51.134919Z",
     "shell.execute_reply.started": "2022-10-31T22:01:38.226370Z",
     "shell.execute_reply": "2022-10-31T22:01:51.133232Z"
    },
    "trusted": true
   },
   "execution_count": 1,
   "outputs": [
    {
     "name": "stdout",
     "text": "Requirement already satisfied: gdown in /opt/conda/lib/python3.7/site-packages (4.5.3)\nRequirement already satisfied: beautifulsoup4 in /opt/conda/lib/python3.7/site-packages (from gdown) (4.11.1)\nRequirement already satisfied: requests[socks] in /opt/conda/lib/python3.7/site-packages (from gdown) (2.28.1)\nRequirement already satisfied: six in /opt/conda/lib/python3.7/site-packages (from gdown) (1.15.0)\nRequirement already satisfied: tqdm in /opt/conda/lib/python3.7/site-packages (from gdown) (4.64.0)\nRequirement already satisfied: filelock in /opt/conda/lib/python3.7/site-packages (from gdown) (3.7.1)\nRequirement already satisfied: soupsieve>1.2 in /opt/conda/lib/python3.7/site-packages (from beautifulsoup4->gdown) (2.3.1)\nRequirement already satisfied: charset-normalizer<3,>=2 in /opt/conda/lib/python3.7/site-packages (from requests[socks]->gdown) (2.1.0)\nRequirement already satisfied: certifi>=2017.4.17 in /opt/conda/lib/python3.7/site-packages (from requests[socks]->gdown) (2022.9.24)\nRequirement already satisfied: idna<4,>=2.5 in /opt/conda/lib/python3.7/site-packages (from requests[socks]->gdown) (3.3)\nRequirement already satisfied: urllib3<1.27,>=1.21.1 in /opt/conda/lib/python3.7/site-packages (from requests[socks]->gdown) (1.26.12)\nRequirement already satisfied: PySocks!=1.5.7,>=1.5.6 in /opt/conda/lib/python3.7/site-packages (from requests[socks]->gdown) (1.7.1)\n\u001B[33mWARNING: Running pip as the 'root' user can result in broken permissions and conflicting behaviour with the system package manager. It is recommended to use a virtual environment instead: https://pip.pypa.io/warnings/venv\u001B[0m\u001B[33m\n\u001B[0m",
     "output_type": "stream"
    }
   ]
  },
  {
   "cell_type": "code",
   "source": "!pip install optuna",
   "metadata": {
    "execution": {
     "iopub.status.busy": "2022-10-31T22:32:16.282207Z",
     "iopub.execute_input": "2022-10-31T22:32:16.283811Z",
     "iopub.status.idle": "2022-10-31T22:32:29.913703Z",
     "shell.execute_reply.started": "2022-10-31T22:32:16.283719Z",
     "shell.execute_reply": "2022-10-31T22:32:29.911851Z"
    },
    "trusted": true
   },
   "execution_count": 14,
   "outputs": [
    {
     "name": "stdout",
     "text": "Requirement already satisfied: optuna in /opt/conda/lib/python3.7/site-packages (3.0.3)\nRequirement already satisfied: cliff in /opt/conda/lib/python3.7/site-packages (from optuna) (3.10.1)\nRequirement already satisfied: sqlalchemy>=1.3.0 in /opt/conda/lib/python3.7/site-packages (from optuna) (1.4.39)\nRequirement already satisfied: tqdm in /opt/conda/lib/python3.7/site-packages (from optuna) (4.64.0)\nRequirement already satisfied: packaging>=20.0 in /opt/conda/lib/python3.7/site-packages (from optuna) (21.3)\nRequirement already satisfied: scipy<1.9.0,>=1.7.0 in /opt/conda/lib/python3.7/site-packages (from optuna) (1.7.3)\nRequirement already satisfied: PyYAML in /opt/conda/lib/python3.7/site-packages (from optuna) (6.0)\nRequirement already satisfied: importlib-metadata<5.0.0 in /opt/conda/lib/python3.7/site-packages (from optuna) (4.13.0)\nRequirement already satisfied: cmaes>=0.8.2 in /opt/conda/lib/python3.7/site-packages (from optuna) (0.8.2)\nRequirement already satisfied: colorlog in /opt/conda/lib/python3.7/site-packages (from optuna) (6.7.0)\nRequirement already satisfied: numpy in /opt/conda/lib/python3.7/site-packages (from optuna) (1.21.6)\nRequirement already satisfied: alembic>=1.5.0 in /opt/conda/lib/python3.7/site-packages (from optuna) (1.8.1)\nRequirement already satisfied: importlib-resources in /opt/conda/lib/python3.7/site-packages (from alembic>=1.5.0->optuna) (5.8.0)\nRequirement already satisfied: Mako in /opt/conda/lib/python3.7/site-packages (from alembic>=1.5.0->optuna) (1.2.3)\nRequirement already satisfied: zipp>=0.5 in /opt/conda/lib/python3.7/site-packages (from importlib-metadata<5.0.0->optuna) (3.8.0)\nRequirement already satisfied: typing-extensions>=3.6.4 in /opt/conda/lib/python3.7/site-packages (from importlib-metadata<5.0.0->optuna) (4.4.0)\nRequirement already satisfied: pyparsing!=3.0.5,>=2.0.2 in /opt/conda/lib/python3.7/site-packages (from packaging>=20.0->optuna) (3.0.9)\nRequirement already satisfied: greenlet!=0.4.17 in /opt/conda/lib/python3.7/site-packages (from sqlalchemy>=1.3.0->optuna) (1.1.2)\nRequirement already satisfied: autopage>=0.4.0 in /opt/conda/lib/python3.7/site-packages (from cliff->optuna) (0.5.1)\nRequirement already satisfied: pbr!=2.1.0,>=2.0.0 in /opt/conda/lib/python3.7/site-packages (from cliff->optuna) (5.10.0)\nRequirement already satisfied: stevedore>=2.0.1 in /opt/conda/lib/python3.7/site-packages (from cliff->optuna) (3.5.1)\nRequirement already satisfied: cmd2>=1.0.0 in /opt/conda/lib/python3.7/site-packages (from cliff->optuna) (2.4.2)\nRequirement already satisfied: PrettyTable>=0.7.2 in /opt/conda/lib/python3.7/site-packages (from cliff->optuna) (3.3.0)\nRequirement already satisfied: wcwidth>=0.1.7 in /opt/conda/lib/python3.7/site-packages (from cmd2>=1.0.0->cliff->optuna) (0.2.5)\nRequirement already satisfied: pyperclip>=1.6 in /opt/conda/lib/python3.7/site-packages (from cmd2>=1.0.0->cliff->optuna) (1.8.2)\nRequirement already satisfied: attrs>=16.3.0 in /opt/conda/lib/python3.7/site-packages (from cmd2>=1.0.0->cliff->optuna) (21.4.0)\nRequirement already satisfied: MarkupSafe>=0.9.2 in /opt/conda/lib/python3.7/site-packages (from Mako->alembic>=1.5.0->optuna) (2.1.1)\n\u001B[33mWARNING: Running pip as the 'root' user can result in broken permissions and conflicting behaviour with the system package manager. It is recommended to use a virtual environment instead: https://pip.pypa.io/warnings/venv\u001B[0m\u001B[33m\n\u001B[0m",
     "output_type": "stream"
    }
   ]
  },
  {
   "cell_type": "code",
   "source": "# Копируем файлы baseline.py, score.py, likes_data.zip\n!gdown --id 1TsgFzNv58TzLy9QkgjKG68m1H79XGg7W\n!gdown --id 1rG7ZX7wAgxKUSLZ_an4apis-UHEFCQXy\n!gdown --id 1CqOrYqsj_wb4NKNBNF7Cc_cZ9WuF7T9Q",
   "metadata": {
    "execution": {
     "iopub.status.busy": "2022-10-31T22:01:51.137720Z",
     "iopub.execute_input": "2022-10-31T22:01:51.138299Z",
     "iopub.status.idle": "2022-10-31T22:02:01.908167Z",
     "shell.execute_reply.started": "2022-10-31T22:01:51.138247Z",
     "shell.execute_reply": "2022-10-31T22:02:01.906741Z"
    },
    "trusted": true
   },
   "execution_count": 2,
   "outputs": [
    {
     "name": "stdout",
     "text": "/opt/conda/lib/python3.7/site-packages/gdown/cli.py:125: FutureWarning: Option `--id` was deprecated in version 4.3.1 and will be removed in 5.0. You don't need to pass it anymore to use a file ID.\n  category=FutureWarning,\nDownloading...\nFrom: https://drive.google.com/uc?id=1TsgFzNv58TzLy9QkgjKG68m1H79XGg7W\nTo: /kaggle/working/baseline.py\n100%|██████████████████████████████████████| 2.37k/2.37k [00:00<00:00, 2.81MB/s]\n/opt/conda/lib/python3.7/site-packages/gdown/cli.py:125: FutureWarning: Option `--id` was deprecated in version 4.3.1 and will be removed in 5.0. You don't need to pass it anymore to use a file ID.\n  category=FutureWarning,\nDownloading...\nFrom: https://drive.google.com/uc?id=1rG7ZX7wAgxKUSLZ_an4apis-UHEFCQXy\nTo: /kaggle/working/score.py\n100%|██████████████████████████████████████████| 796/796 [00:00<00:00, 1.08MB/s]\n/opt/conda/lib/python3.7/site-packages/gdown/cli.py:125: FutureWarning: Option `--id` was deprecated in version 4.3.1 and will be removed in 5.0. You don't need to pass it anymore to use a file ID.\n  category=FutureWarning,\nDownloading...\nFrom: https://drive.google.com/uc?id=1CqOrYqsj_wb4NKNBNF7Cc_cZ9WuF7T9Q\nTo: /kaggle/working/likes_data.zip\n100%|█████████████████████████████████████████| 362M/362M [00:01<00:00, 277MB/s]\n",
     "output_type": "stream"
    }
   ]
  },
  {
   "cell_type": "code",
   "source": "!unzip likes_data.zip",
   "metadata": {
    "execution": {
     "iopub.status.busy": "2022-10-31T22:02:01.909771Z",
     "iopub.execute_input": "2022-10-31T22:02:01.910176Z",
     "iopub.status.idle": "2022-10-31T22:03:19.693198Z",
     "shell.execute_reply.started": "2022-10-31T22:02:01.910129Z",
     "shell.execute_reply": "2022-10-31T22:03:19.691495Z"
    },
    "trusted": true
   },
   "execution_count": 3,
   "outputs": [
    {
     "name": "stdout",
     "text": "Archive:  likes_data.zip\nreplace test? [y]es, [n]o, [A]ll, [N]one, [r]ename: ^C\n",
     "output_type": "stream"
    }
   ]
  },
  {
   "cell_type": "code",
   "source": "# Импорт библиотек\nimport numpy as np\nimport gc\nimport os\nimport pandas as pd\nimport multiprocessing\n\n\nfrom tqdm.notebook import tqdm\nfrom scipy.sparse import csr_matrix, coo_matrix",
   "metadata": {
    "execution": {
     "iopub.status.busy": "2022-10-31T22:03:19.697549Z",
     "iopub.execute_input": "2022-10-31T22:03:19.698397Z",
     "iopub.status.idle": "2022-10-31T22:03:19.779447Z",
     "shell.execute_reply.started": "2022-10-31T22:03:19.698283Z",
     "shell.execute_reply": "2022-10-31T22:03:19.778424Z"
    },
    "trusted": true
   },
   "execution_count": 4,
   "outputs": []
  },
  {
   "cell_type": "code",
   "source": "# Всего 1.1 млн юзеров. Возьмем каждого 100 юзера (всего 10к юзеров)\n# Возьмем последние 7 файлов, которые были выбраны юзерами. \n# Cамый последний файл будет таргетным значением\n\nlist_tracks = [] # список уникальных песен которые есть\ndf = [] # Список последних 10 лайкаанных песен юзера\ny_list = [] # Последний лайк\nwith open('train') as f:\n\n    lines = f.readlines()\n\n    for line in tqdm(range(1, len(lines), 100)):\n\n        row = [int(i) for i in lines[line].strip().split(' ')]\n\n        #Игнорирую юзеров с менее 7 реакциями\n        if len(row) < 8: continue\n\n        tracks, y = row[-8:-1], row[-1]\n        df.append(tracks)\n        list_tracks.extend(tracks + [y])\n\n",
   "metadata": {
    "execution": {
     "iopub.status.busy": "2022-10-31T22:03:19.780735Z",
     "iopub.execute_input": "2022-10-31T22:03:19.781613Z",
     "iopub.status.idle": "2022-10-31T22:03:23.309753Z",
     "shell.execute_reply.started": "2022-10-31T22:03:19.781576Z",
     "shell.execute_reply": "2022-10-31T22:03:23.308323Z"
    },
    "trusted": true
   },
   "execution_count": 5,
   "outputs": [
    {
     "output_type": "display_data",
     "data": {
      "text/plain": "  0%|          | 0/11601 [00:00<?, ?it/s]",
      "application/vnd.jupyter.widget-view+json": {
       "version_major": 2,
       "version_minor": 0,
       "model_id": "e8bf13dbb34446ab8d037678f7225904"
      }
     },
     "metadata": {}
    }
   ]
  },
  {
   "cell_type": "code",
   "source": "list_tracks = set(list_tracks)",
   "metadata": {
    "execution": {
     "iopub.status.busy": "2022-10-31T22:03:23.311174Z",
     "iopub.execute_input": "2022-10-31T22:03:23.311549Z",
     "iopub.status.idle": "2022-10-31T22:03:23.326801Z",
     "shell.execute_reply.started": "2022-10-31T22:03:23.311517Z",
     "shell.execute_reply": "2022-10-31T22:03:23.325745Z"
    },
    "trusted": true
   },
   "execution_count": 6,
   "outputs": []
  },
  {
   "cell_type": "code",
   "source": "dict_with_tracks = {}\n\nfor i, el in tqdm(enumerate(list_tracks)):\n    dict_with_tracks[el] = i",
   "metadata": {
    "execution": {
     "iopub.status.busy": "2022-10-31T22:03:23.328777Z",
     "iopub.execute_input": "2022-10-31T22:03:23.329939Z",
     "iopub.status.idle": "2022-10-31T22:03:23.419543Z",
     "shell.execute_reply.started": "2022-10-31T22:03:23.329885Z",
     "shell.execute_reply": "2022-10-31T22:03:23.418198Z"
    },
    "trusted": true
   },
   "execution_count": 7,
   "outputs": [
    {
     "output_type": "display_data",
     "data": {
      "text/plain": "0it [00:00, ?it/s]",
      "application/vnd.jupyter.widget-view+json": {
       "version_major": 2,
       "version_minor": 0,
       "model_id": "4bedbfba22494dd3a0f518104bc1eed4"
      }
     },
     "metadata": {}
    }
   ]
  },
  {
   "cell_type": "code",
   "source": "data = []\ncount_columns = len(list_tracks)\n\nfor row in tqdm(df):\n\n    row_i = np.zeros(count_columns)\n    filter_indices = [dict_with_tracks[i] for i in row]\n    row_i[filter_indices] = 1\n    data.append(row_i)",
   "metadata": {
    "execution": {
     "iopub.status.busy": "2022-10-31T22:03:23.421038Z",
     "iopub.execute_input": "2022-10-31T22:03:23.421397Z",
     "iopub.status.idle": "2022-10-31T22:03:24.874374Z",
     "shell.execute_reply.started": "2022-10-31T22:03:23.421366Z",
     "shell.execute_reply": "2022-10-31T22:03:24.872991Z"
    },
    "trusted": true
   },
   "execution_count": 8,
   "outputs": [
    {
     "output_type": "display_data",
     "data": {
      "text/plain": "  0%|          | 0/11130 [00:00<?, ?it/s]",
      "application/vnd.jupyter.widget-view+json": {
       "version_major": 2,
       "version_minor": 0,
       "model_id": "d36d92648e41469894ed95121c743bc7"
      }
     },
     "metadata": {}
    }
   ]
  },
  {
   "cell_type": "code",
   "source": "gc.collect()\ndel df, list_tracks, lines",
   "metadata": {
    "execution": {
     "iopub.status.busy": "2022-10-31T22:03:24.875757Z",
     "iopub.execute_input": "2022-10-31T22:03:24.876219Z",
     "iopub.status.idle": "2022-10-31T22:03:25.190347Z",
     "shell.execute_reply.started": "2022-10-31T22:03:24.876176Z",
     "shell.execute_reply": "2022-10-31T22:03:25.188977Z"
    },
    "trusted": true
   },
   "execution_count": 9,
   "outputs": []
  },
  {
   "cell_type": "code",
   "source": "df = pd.DataFrame(data)",
   "metadata": {
    "execution": {
     "iopub.status.busy": "2022-10-31T22:03:25.215599Z",
     "iopub.execute_input": "2022-10-31T22:03:25.216464Z",
     "iopub.status.idle": "2022-10-31T22:09:24.483377Z",
     "shell.execute_reply.started": "2022-10-31T22:03:25.216425Z",
     "shell.execute_reply": "2022-10-31T22:09:24.481801Z"
    },
    "trusted": true
   },
   "execution_count": 10,
   "outputs": []
  },
  {
   "cell_type": "code",
   "source": "df.to_csv('data_10k_user_7last_file.csv')",
   "metadata": {
    "execution": {
     "iopub.status.busy": "2022-10-31T22:13:10.618649Z",
     "iopub.execute_input": "2022-10-31T22:13:10.619180Z",
     "iopub.status.idle": "2022-10-31T22:25:39.229667Z",
     "shell.execute_reply.started": "2022-10-31T22:13:10.619123Z",
     "shell.execute_reply": "2022-10-31T22:25:39.228225Z"
    },
    "trusted": true
   },
   "execution_count": 11,
   "outputs": []
  },
  {
   "cell_type": "code",
   "source": "import pickle\n\nf = open(\"dict_with_tracks.pkl\",\"wb\")\npickle.dump(dict_with_tracks, f)\nf.close()\n\nf = open(\"y_list.pkl\",\"wb\")\npickle.dump(y_list, f)\nf.close()",
   "metadata": {
    "execution": {
     "iopub.status.busy": "2022-10-31T22:25:39.232366Z",
     "iopub.execute_input": "2022-10-31T22:25:39.232745Z",
     "iopub.status.idle": "2022-10-31T22:25:39.251065Z",
     "shell.execute_reply.started": "2022-10-31T22:25:39.232713Z",
     "shell.execute_reply": "2022-10-31T22:25:39.249488Z"
    },
    "trusted": true
   },
   "execution_count": 12,
   "outputs": []
  },
  {
   "cell_type": "code",
   "source": "df.head()",
   "metadata": {
    "execution": {
     "iopub.status.busy": "2022-10-31T22:29:35.599587Z",
     "iopub.execute_input": "2022-10-31T22:29:35.600902Z",
     "iopub.status.idle": "2022-10-31T22:29:35.647860Z",
     "shell.execute_reply.started": "2022-10-31T22:29:35.600836Z",
     "shell.execute_reply": "2022-10-31T22:29:35.646503Z"
    },
    "trusted": true
   },
   "execution_count": 13,
   "outputs": [
    {
     "execution_count": 13,
     "output_type": "execute_result",
     "data": {
      "text/plain": "   0      1      2      3      4      5      6      7      8      9      ...  \\\n0    0.0    0.0    0.0    0.0    0.0    0.0    0.0    0.0    0.0    0.0  ...   \n1    0.0    0.0    0.0    0.0    0.0    0.0    0.0    0.0    0.0    0.0  ...   \n2    0.0    0.0    0.0    0.0    0.0    0.0    0.0    0.0    0.0    0.0  ...   \n3    0.0    0.0    0.0    0.0    0.0    0.0    0.0    0.0    0.0    0.0  ...   \n4    0.0    0.0    0.0    0.0    0.0    0.0    0.0    0.0    0.0    0.0  ...   \n\n   44731  44732  44733  44734  44735  44736  44737  44738  44739  44740  \n0    0.0    0.0    0.0    0.0    0.0    0.0    0.0    0.0    0.0    0.0  \n1    0.0    0.0    0.0    0.0    0.0    0.0    0.0    0.0    0.0    0.0  \n2    0.0    0.0    0.0    0.0    0.0    0.0    0.0    0.0    0.0    0.0  \n3    0.0    0.0    0.0    0.0    0.0    0.0    0.0    0.0    0.0    0.0  \n4    0.0    0.0    0.0    0.0    0.0    0.0    0.0    0.0    0.0    0.0  \n\n[5 rows x 44741 columns]",
      "text/html": "<div>\n<style scoped>\n    .dataframe tbody tr th:only-of-type {\n        vertical-align: middle;\n    }\n\n    .dataframe tbody tr th {\n        vertical-align: top;\n    }\n\n    .dataframe thead th {\n        text-align: right;\n    }\n</style>\n<table border=\"1\" class=\"dataframe\">\n  <thead>\n    <tr style=\"text-align: right;\">\n      <th></th>\n      <th>0</th>\n      <th>1</th>\n      <th>2</th>\n      <th>3</th>\n      <th>4</th>\n      <th>5</th>\n      <th>6</th>\n      <th>7</th>\n      <th>8</th>\n      <th>9</th>\n      <th>...</th>\n      <th>44731</th>\n      <th>44732</th>\n      <th>44733</th>\n      <th>44734</th>\n      <th>44735</th>\n      <th>44736</th>\n      <th>44737</th>\n      <th>44738</th>\n      <th>44739</th>\n      <th>44740</th>\n    </tr>\n  </thead>\n  <tbody>\n    <tr>\n      <th>0</th>\n      <td>0.0</td>\n      <td>0.0</td>\n      <td>0.0</td>\n      <td>0.0</td>\n      <td>0.0</td>\n      <td>0.0</td>\n      <td>0.0</td>\n      <td>0.0</td>\n      <td>0.0</td>\n      <td>0.0</td>\n      <td>...</td>\n      <td>0.0</td>\n      <td>0.0</td>\n      <td>0.0</td>\n      <td>0.0</td>\n      <td>0.0</td>\n      <td>0.0</td>\n      <td>0.0</td>\n      <td>0.0</td>\n      <td>0.0</td>\n      <td>0.0</td>\n    </tr>\n    <tr>\n      <th>1</th>\n      <td>0.0</td>\n      <td>0.0</td>\n      <td>0.0</td>\n      <td>0.0</td>\n      <td>0.0</td>\n      <td>0.0</td>\n      <td>0.0</td>\n      <td>0.0</td>\n      <td>0.0</td>\n      <td>0.0</td>\n      <td>...</td>\n      <td>0.0</td>\n      <td>0.0</td>\n      <td>0.0</td>\n      <td>0.0</td>\n      <td>0.0</td>\n      <td>0.0</td>\n      <td>0.0</td>\n      <td>0.0</td>\n      <td>0.0</td>\n      <td>0.0</td>\n    </tr>\n    <tr>\n      <th>2</th>\n      <td>0.0</td>\n      <td>0.0</td>\n      <td>0.0</td>\n      <td>0.0</td>\n      <td>0.0</td>\n      <td>0.0</td>\n      <td>0.0</td>\n      <td>0.0</td>\n      <td>0.0</td>\n      <td>0.0</td>\n      <td>...</td>\n      <td>0.0</td>\n      <td>0.0</td>\n      <td>0.0</td>\n      <td>0.0</td>\n      <td>0.0</td>\n      <td>0.0</td>\n      <td>0.0</td>\n      <td>0.0</td>\n      <td>0.0</td>\n      <td>0.0</td>\n    </tr>\n    <tr>\n      <th>3</th>\n      <td>0.0</td>\n      <td>0.0</td>\n      <td>0.0</td>\n      <td>0.0</td>\n      <td>0.0</td>\n      <td>0.0</td>\n      <td>0.0</td>\n      <td>0.0</td>\n      <td>0.0</td>\n      <td>0.0</td>\n      <td>...</td>\n      <td>0.0</td>\n      <td>0.0</td>\n      <td>0.0</td>\n      <td>0.0</td>\n      <td>0.0</td>\n      <td>0.0</td>\n      <td>0.0</td>\n      <td>0.0</td>\n      <td>0.0</td>\n      <td>0.0</td>\n    </tr>\n    <tr>\n      <th>4</th>\n      <td>0.0</td>\n      <td>0.0</td>\n      <td>0.0</td>\n      <td>0.0</td>\n      <td>0.0</td>\n      <td>0.0</td>\n      <td>0.0</td>\n      <td>0.0</td>\n      <td>0.0</td>\n      <td>0.0</td>\n      <td>...</td>\n      <td>0.0</td>\n      <td>0.0</td>\n      <td>0.0</td>\n      <td>0.0</td>\n      <td>0.0</td>\n      <td>0.0</td>\n      <td>0.0</td>\n      <td>0.0</td>\n      <td>0.0</td>\n      <td>0.0</td>\n    </tr>\n  </tbody>\n</table>\n<p>5 rows × 44741 columns</p>\n</div>"
     },
     "metadata": {}
    }
   ]
  },
  {
   "cell_type": "code",
   "source": "matrix_coo = csr_matrix (df.values)\nmatrix_coo \n",
   "metadata": {
    "execution": {
     "iopub.status.busy": "2022-10-31T22:32:53.563879Z",
     "iopub.execute_input": "2022-10-31T22:32:53.564358Z",
     "iopub.status.idle": "2022-10-31T22:33:02.618818Z",
     "shell.execute_reply.started": "2022-10-31T22:32:53.564318Z",
     "shell.execute_reply": "2022-10-31T22:33:02.616571Z"
    },
    "trusted": true
   },
   "execution_count": 17,
   "outputs": [
    {
     "execution_count": 17,
     "output_type": "execute_result",
     "data": {
      "text/plain": "<11130x44741 sparse matrix of type '<class 'numpy.float64'>'\n\twith 77910 stored elements in Compressed Sparse Row format>"
     },
     "metadata": {}
    }
   ]
  }
 ]
}
